{
 "cells": [
  {
   "cell_type": "markdown",
   "id": "ce9db935",
   "metadata": {},
   "source": [
    "# Producer Notebook"
   ]
  },
  {
   "cell_type": "code",
   "execution_count": 1,
   "id": "81d78486",
   "metadata": {},
   "outputs": [],
   "source": [
    "from pykafka import KafkaClient\n",
    "import pandas as pd"
   ]
  },
  {
   "cell_type": "code",
   "execution_count": 2,
   "id": "565ec6ce",
   "metadata": {},
   "outputs": [],
   "source": [
    "def read_csv():\n",
    "    return pd.read_csv('afterCleaning.csv').to_dict('records') \n",
    "\n",
    "CSV_file = read_csv() "
   ]
  },
  {
   "cell_type": "code",
   "execution_count": null,
   "id": "84141a5d",
   "metadata": {},
   "outputs": [
    {
     "name": "stderr",
     "output_type": "stream",
     "text": [
      "Exception ignored in: <function Producer.__del__ at 0x000001EF8052AEE0>\n",
      "Traceback (most recent call last):\n",
      "  File \"D:\\Bootcamp\\app\\lib\\site-packages\\pykafka\\producer.py\", line 235, in __del__\n",
      "    self.stop()\n",
      "  File \"D:\\Bootcamp\\app\\lib\\site-packages\\pykafka\\producer.py\", line 344, in stop\n",
      "    queue_reader.join()\n",
      "  File \"D:\\Bootcamp\\app\\lib\\threading.py\", line 1060, in join\n",
      "    self._wait_for_tstate_lock()\n",
      "  File \"D:\\Bootcamp\\app\\lib\\threading.py\", line 1080, in _wait_for_tstate_lock\n",
      "    if lock.acquire(block, timeout):\n",
      "KeyboardInterrupt: \n"
     ]
    }
   ],
   "source": [
    "def get_kafka_client():\n",
    "    return KafkaClient(hosts='127.0.0.1:9092')\n",
    "\n",
    "class Producer():\n",
    "    \n",
    "    def produce(self):\n",
    "        client = get_kafka_client() \n",
    "        topic = client.topics['Capstone'] \n",
    "        \n",
    "        for item in CSV_file:\n",
    "            producer = topic.get_sync_producer() \n",
    "            item = str(item)\n",
    "            producer.produce(item.encode('utf-8'))\n",
    "        return True\n",
    "\n",
    "std = Producer()\n",
    "std.produce()"
   ]
  },
  {
   "cell_type": "code",
   "execution_count": null,
   "id": "e64de842",
   "metadata": {},
   "outputs": [],
   "source": []
  }
 ],
 "metadata": {
  "kernelspec": {
   "display_name": "Python 3 (ipykernel)",
   "language": "python",
   "name": "python3"
  },
  "language_info": {
   "codemirror_mode": {
    "name": "ipython",
    "version": 3
   },
   "file_extension": ".py",
   "mimetype": "text/x-python",
   "name": "python",
   "nbconvert_exporter": "python",
   "pygments_lexer": "ipython3",
   "version": "3.9.13"
  }
 },
 "nbformat": 4,
 "nbformat_minor": 5
}
