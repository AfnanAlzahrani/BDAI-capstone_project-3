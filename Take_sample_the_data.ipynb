{
  "nbformat": 4,
  "nbformat_minor": 0,
  "metadata": {
    "colab": {
      "provenance": []
    },
    "kernelspec": {
      "name": "python3",
      "display_name": "Python 3"
    },
    "language_info": {
      "name": "python"
    }
  },
  "cells": [
    {
      "cell_type": "code",
      "source": [
        "!pip install pyspark"
      ],
      "metadata": {
        "colab": {
          "base_uri": "https://localhost:8080/"
        },
        "id": "5E3p_vKQ_7A-",
        "outputId": "3119ff3d-37cf-4dd9-d36e-e61811b2a60f"
      },
      "execution_count": 15,
      "outputs": [
        {
          "output_type": "stream",
          "name": "stdout",
          "text": [
            "Looking in indexes: https://pypi.org/simple, https://us-python.pkg.dev/colab-wheels/public/simple/\n",
            "Requirement already satisfied: pyspark in /usr/local/lib/python3.8/dist-packages (3.3.1)\n",
            "Requirement already satisfied: py4j==0.10.9.5 in /usr/local/lib/python3.8/dist-packages (from pyspark) (0.10.9.5)\n"
          ]
        }
      ]
    },
    {
      "cell_type": "code",
      "execution_count": 16,
      "metadata": {
        "colab": {
          "base_uri": "https://localhost:8080/"
        },
        "id": "h9k_-FRIy56V",
        "outputId": "8bd202cf-b172-4e44-d967-3a1f6f4cbbbc"
      },
      "outputs": [
        {
          "output_type": "stream",
          "name": "stdout",
          "text": [
            "Drive already mounted at /content/drive; to attempt to forcibly remount, call drive.mount(\"/content/drive\", force_remount=True).\n"
          ]
        }
      ],
      "source": [
        "import pyspark\n",
        "import pandas as pd\n",
        "from pyspark.sql import functions as F\n",
        "from pyspark.sql.functions import col, isnan, when, count\n",
        "from google.colab import drive\n",
        "drive.mount('/content/drive')"
      ]
    },
    {
      "cell_type": "code",
      "source": [
        "spark = pyspark.sql.SparkSession.builder.getOrCreate() #init pyspark"
      ],
      "metadata": {
        "id": "vz5YRKXZzI3J"
      },
      "execution_count": 17,
      "outputs": []
    },
    {
      "cell_type": "code",
      "source": [
        "df4 = spark.read.csv('/content/drive/MyDrive/datasets/Parking_Violations_Issued_-_Fiscal_Year_2017.csv', sep=',', inferSchema=True, header=True, multiLine=True)"
      ],
      "metadata": {
        "id": "Ut30Xk3aza8L"
      },
      "execution_count": 18,
      "outputs": []
    },
    {
      "cell_type": "code",
      "source": [
        "print('Dataframe shape:', (df4.count(), len(df4.columns)))"
      ],
      "metadata": {
        "colab": {
          "base_uri": "https://localhost:8080/"
        },
        "id": "wj06fZ8pzdOC",
        "outputId": "234c9ad6-71b0-4070-fc1c-e23e5cd09812"
      },
      "execution_count": 19,
      "outputs": [
        {
          "output_type": "stream",
          "name": "stdout",
          "text": [
            "Dataframe shape: (10803028, 43)\n"
          ]
        }
      ]
    },
    {
      "cell_type": "code",
      "source": [
        "df = df4.dropDuplicates() #drop duplicates"
      ],
      "metadata": {
        "id": "ZPKukrP0zguI"
      },
      "execution_count": 20,
      "outputs": []
    },
    {
      "cell_type": "code",
      "source": [
        "df.select([F.count(F.when(F.isnan(c) | F.col(c).isNull(), c)).alias(c) for c in df.columns]).show() #null values in columns"
      ],
      "metadata": {
        "colab": {
          "base_uri": "https://localhost:8080/"
        },
        "id": "lqwpvXRGzhI9",
        "outputId": "a4b57b16-aef6-4be6-a6f8-51da48818f56"
      },
      "execution_count": 21,
      "outputs": [
        {
          "output_type": "stream",
          "name": "stdout",
          "text": [
            "+--------------+--------+------------------+----------+----------+--------------+-----------------+------------+--------------+------------+------------+------------+-----------------------+------------------+------------------+---------------+-----------+--------------+------------+--------------+-------------------+----------------+---------------------------------+------------+-----------+-------------------+-------------------+-----------+------------+--------------------+--------------------------+--------------------+------------------+-------------+---------------------+------------+------------+--------------+-------------------+---------------------+---------------------------------+-----------------+------------------------+\n",
            "|Summons Number|Plate ID|Registration State|Plate Type|Issue Date|Violation Code|Vehicle Body Type|Vehicle Make|Issuing Agency|Street Code1|Street Code2|Street Code3|Vehicle Expiration Date|Violation Location|Violation Precinct|Issuer Precinct|Issuer Code|Issuer Command|Issuer Squad|Violation Time|Time First Observed|Violation County|Violation In Front Of Or Opposite|House Number|Street Name|Intersecting Street|Date First Observed|Law Section|Sub Division|Violation Legal Code|Days Parking In Effect    |From Hours In Effect|To Hours In Effect|Vehicle Color|Unregistered Vehicle?|Vehicle Year|Meter Number|Feet From Curb|Violation Post Code|Violation Description|No Standing or Stopping Violation|Hydrant Violation|Double Parking Violation|\n",
            "+--------------+--------+------------------+----------+----------+--------------+-----------------+------------+--------------+------------+------------+------------+-----------------------+------------------+------------------+---------------+-----------+--------------+------------+--------------+-------------------+----------------+---------------------------------+------------+-----------+-------------------+-------------------+-----------+------------+--------------------+--------------------------+--------------------+------------------+-------------+---------------------+------------+------------+--------------+-------------------+---------------------+---------------------------------+-----------------+------------------------+\n",
            "|             0|       1|                 0|         0|         0|             0|            42696|       73047|             0|           0|           0|           0|                      0|           2072400|                 0|              0|          0|       2062645|     2063541|            63|            9962281|           39547|                          2161235|     2288618|       4009|            7435473|                  0|          0|         773|             8740321|                   2712416|             5450946|           5450943|       152332|              9675432|           0|     9017555|             0|            3190187|              1127470|                         10803028|         10803028|                10803028|\n",
            "+--------------+--------+------------------+----------+----------+--------------+-----------------+------------+--------------+------------+------------+------------+-----------------------+------------------+------------------+---------------+-----------+--------------+------------+--------------+-------------------+----------------+---------------------------------+------------+-----------+-------------------+-------------------+-----------+------------+--------------------+--------------------------+--------------------+------------------+-------------+---------------------+------------+------------+--------------+-------------------+---------------------+---------------------------------+-----------------+------------------------+\n",
            "\n"
          ]
        }
      ]
    },
    {
      "cell_type": "code",
      "source": [
        "#drop the columns with over 50% null values\n",
        "drop_cols = ['Time First Observed', 'Intersecting Street', 'Violation Legal Code', 'Unregistered Vehicle?', 'Meter Number', 'No Standing or Stopping Violation', 'Hydrant Violation', 'Double Parking Violation']\n",
        "df_new = df.drop(*drop_cols)"
      ],
      "metadata": {
        "id": "BRAv9Rg4ziqZ"
      },
      "execution_count": 22,
      "outputs": []
    },
    {
      "cell_type": "code",
      "source": [
        "dfWoutNull = df_new.na.drop() #drop the null values\n",
        "print('Dataframe shape:',(dfWoutNull.count(), len(dfWoutNull.columns)))"
      ],
      "metadata": {
        "colab": {
          "base_uri": "https://localhost:8080/"
        },
        "id": "puQySWRDzk0R",
        "outputId": "22b95fe5-9403-433a-a594-f8fa6c14f50d"
      },
      "execution_count": 23,
      "outputs": [
        {
          "output_type": "stream",
          "name": "stdout",
          "text": [
            "Dataframe shape: (4190048, 35)\n"
          ]
        }
      ]
    },
    {
      "cell_type": "code",
      "source": [
        "df1m = dfWoutNull.sample(0.3)\n",
        "dfP = df1m.toPandas() #convert the spark dataframe to pandas\n",
        "dfP.to_csv('parking2017.csv') #save it to csv file"
      ],
      "metadata": {
        "id": "IU05ugJMzpnp"
      },
      "execution_count": 24,
      "outputs": []
    },
    {
      "cell_type": "code",
      "source": [],
      "metadata": {
        "id": "Mafxvz8VL_8x"
      },
      "execution_count": null,
      "outputs": []
    }
  ]
}